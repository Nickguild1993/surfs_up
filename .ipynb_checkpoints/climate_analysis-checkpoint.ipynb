{
 "cells": [
  {
   "cell_type": "code",
   "execution_count": 1,
   "metadata": {},
   "outputs": [],
   "source": [
    "%matplotlib inline\n",
    "from matplotlib import style\n",
    "style.use('fivethirtyeight')\n",
    "import matplotlib.pyplot as plt"
   ]
  },
  {
   "cell_type": "code",
   "execution_count": 2,
   "metadata": {},
   "outputs": [],
   "source": [
    "import numpy as np\n",
    "import pandas as pd"
   ]
  },
  {
   "cell_type": "code",
   "execution_count": 3,
   "metadata": {},
   "outputs": [],
   "source": [
    "import datetime as dt"
   ]
  },
  {
   "cell_type": "code",
   "execution_count": null,
   "metadata": {},
   "outputs": [],
   "source": [
    "# Notes on SQLAlchemy\n",
    "\n",
    "# SQLAlchemy ORM- ORM = Object Relational Mapper.  Allows you to create classes in your code that can be mapped\n",
    "# to specific tables in a given database. This allows us to create a special type of system: **decoupled system**\n",
    "\n",
    "# Understanding ORMs: consider a bunch of wires and rope tightly knotted together.  You can't seperate them easily because \n",
    "# of the tangle- this is a **TIGHTLY COUPLED SYSTEM**- all different ropes are connected to each other, so if you try to grab\n",
    "# one rope/wire, you get the whole mess of them.\n",
    "\n",
    "# what an ORM does is detangle (DECOUPLE) all those ropes/wires so we can use one at a time.  So if one element breaks, it\n",
    "# doesn't affect any of the other cords.\n",
    "\n",
    "# GENERALLY SPEAKING: the less coupling in our code, the better. The more coupling you have, the more the entire system\n",
    "# will be affected if one aspect errors out- everything will break."
   ]
  },
  {
   "cell_type": "code",
   "execution_count": 5,
   "metadata": {},
   "outputs": [],
   "source": [
    "# Bottom line on ORM- keeps systems *decoupled*.  \n",
    "\n",
    "# Our references will be to *classes* in our code instead of specific tables in the database. \n",
    "\n",
    "# We'll be able to influence each class independently.\n"
   ]
  },
  {
   "cell_type": "markdown",
   "metadata": {},
   "source": [
    "# Reflect Tables into SQLAlchemy ORM"
   ]
  },
  {
   "cell_type": "code",
   "execution_count": 6,
   "metadata": {},
   "outputs": [],
   "source": [
    "# SQLAlchemy Create Engine\n",
    "\n",
    "# CREATE ENGINE function in SQLAlchemy primary purpose is to setup the ability to QUERY a SQLlite database.\n",
    "\n",
    "# In order to connect to the SQLite database, need to use CREATE_ENGINE() function. **this func. just prepares the database \n",
    "# file to be connected later on.  \n",
    "# the create_engine() func. usually just has one paramter -> which is the location of the SQlite database file.\n",
    "\n",
    "engine = create_engine(\"sqlite:///hawaii.sqlite\")\n",
    "\n",
    "                            # Python SQL toolkit and Object Relational Mapper\n",
    "import sqlalchemy\n",
    "from sqlalchemy.ext.automap import automap_base\n",
    "from sqlalchemy.orm import Session\n",
    "from sqlalchemy import create_engine, func"
   ]
  },
  {
   "cell_type": "code",
   "execution_count": 7,
   "metadata": {},
   "outputs": [],
   "source": [
    "# SQLAlchemy Automap Base\n",
    "\n",
    "# **Automap Base**  creates a base class for an automap scheme in SQLalchemy.  Meaning, it sets up the foundation for us\n",
    "# to build on in SQLAlchemy\n",
    "\n",
    "# Add the following\n",
    "\n",
    "Base= automap_base()"
   ]
  },
  {
   "cell_type": "code",
   "execution_count": null,
   "metadata": {},
   "outputs": [],
   "source": [
    "# SQLAlchemy Reflect Tables \n",
    "\n",
    "# Can now reflect our tables with the *prepare()* function.  By adding this code, we'll reflect the schema of our SQLite tables\n",
    "# into our code and create mappings.\n",
    "\n",
    "### IMPORTANT: Recall when talking about keeping our code decoupled in the above notes.  When we REFLECT tables,\n",
    "### we're creating CLASSES that keep our code separate. This ensures that if other classes or systems want to interact\n",
    "### with it, they can ONLY INTERACT with specific subsets of data instead of the entire dataset."
   ]
  },
  {
   "cell_type": "code",
   "execution_count": 8,
   "metadata": {},
   "outputs": [],
   "source": [
    "# reflect an existing database into a new model\n",
    "\n",
    "# reflect the tables\n",
    "Base.prepare(engine, reflect= True)\n",
    "\n",
    "# Now that we've reflected our database tables, we can check out the CLASSES we'll be creating with Automap."
   ]
  },
  {
   "cell_type": "code",
   "execution_count": null,
   "metadata": {},
   "outputs": [],
   "source": [
    "# Once we've added the *Base.prepare() func. need to confirm that the Automap was able to find all the data \n",
    "# in the SQLite database.  \n",
    "\n",
    "# Check this by using **Base.classes.keys()\n",
    "#      This code references the classes that were mapped in each table.\n",
    "\n",
    "# Base.classes -> gives us access to all the classes]\n",
    "# keys() -> references all the names of the classes."
   ]
  },
  {
   "cell_type": "code",
   "execution_count": null,
   "metadata": {},
   "outputs": [],
   "source": [
    "# These classes we've set up help keep our data seperate (DECOUPLED).  Our data is no longer stored in tables, but in CLASSES.\n",
    "# The code we'll run below allows us to pretty much copy, or REFLECT, our data into different classes instead of database tables"
   ]
  },
  {
   "cell_type": "code",
   "execution_count": 9,
   "metadata": {},
   "outputs": [
    {
     "data": {
      "text/plain": [
       "['measurement', 'station']"
      ]
     },
     "execution_count": 9,
     "metadata": {},
     "output_type": "execute_result"
    }
   ],
   "source": [
    "# We can view all of the classes that automap found\n",
    "Base.classes.keys()"
   ]
  },
  {
   "cell_type": "code",
   "execution_count": 10,
   "metadata": {},
   "outputs": [],
   "source": [
    "# Save references to each table\n",
    "\n",
    "# In order to reference a specific class, we use **Base.classes.<class name>  \n",
    "# so if we wanted to reference the *station* class, we would do -> Base.classes.station\n",
    "\n",
    "# Since it's cumbersome to type Base.classes every time we want to reference the *measurement* or *station* classes,\n",
    "# we can give classes new variable names.  Creating new references for the two classes.\n",
    "\n",
    "Measurement = Base.classes.measurement\n",
    "Station = Base.classes.station"
   ]
  },
  {
   "cell_type": "code",
   "execution_count": 11,
   "metadata": {},
   "outputs": [],
   "source": [
    "# Create our session (link) from Python to the DB\n",
    "\n",
    "# Use an SQLAlchemy Session to query our database.  Our session essentially allows us to query for data.\n",
    "\n",
    "session = Session(engine)"
   ]
  },
  {
   "cell_type": "markdown",
   "metadata": {},
   "source": [
    "# Exploratory Climate Analysis"
   ]
  },
  {
   "cell_type": "code",
   "execution_count": null,
   "metadata": {},
   "outputs": [],
   "source": [
    "# Design a query to retrieve the last 12 months of precipitation data and plot the results. \n",
    "#Starting from the last data point in the database. \n",
    "\n",
    "# Calculate the date one year from the last date in data set.\n",
    "\n",
    "# Perform a query to retrieve the data and precipitation scores\n",
    "\n",
    "# Save the query results as a Pandas DataFrame and set the index to the date column\n",
    "\n",
    "# Sort the dataframe by date\n",
    "\n",
    "# Use Pandas Plotting with Matplotlib to plot the data\n"
   ]
  },
  {
   "cell_type": "code",
   "execution_count": null,
   "metadata": {},
   "outputs": [],
   "source": [
    "# Use Pandas to calcualte the summary statistics for the precipitation data\n"
   ]
  },
  {
   "cell_type": "code",
   "execution_count": null,
   "metadata": {},
   "outputs": [],
   "source": [
    "# How many stations are available in this dataset?\n"
   ]
  },
  {
   "cell_type": "code",
   "execution_count": null,
   "metadata": {},
   "outputs": [],
   "source": [
    "# What are the most active stations?\n",
    "# List the stations and the counts in descending order.\n"
   ]
  },
  {
   "cell_type": "code",
   "execution_count": null,
   "metadata": {},
   "outputs": [],
   "source": [
    "# Using the station id from the previous query, calculate the lowest temperature recorded, \n",
    "# highest temperature recorded, and average temperature most active station?\n"
   ]
  },
  {
   "cell_type": "code",
   "execution_count": null,
   "metadata": {},
   "outputs": [],
   "source": [
    "# Choose the station with the highest number of temperature observations.\n",
    "# Query the last 12 months of temperature observation data for this station and plot the results as a histogram\n"
   ]
  },
  {
   "cell_type": "code",
   "execution_count": null,
   "metadata": {},
   "outputs": [],
   "source": [
    "# Write a function called `calc_temps` that will accept start date and end date in the format '%Y-%m-%d' \n",
    "# and return the minimum, average, and maximum temperatures for that range of dates\n"
   ]
  },
  {
   "cell_type": "markdown",
   "metadata": {},
   "source": [
    "# Challenge"
   ]
  },
  {
   "cell_type": "code",
   "execution_count": null,
   "metadata": {},
   "outputs": [],
   "source": []
  }
 ],
 "metadata": {
  "kernelspec": {
   "display_name": "Python 3",
   "language": "python",
   "name": "python3"
  },
  "language_info": {
   "codemirror_mode": {
    "name": "ipython",
    "version": 3
   },
   "file_extension": ".py",
   "mimetype": "text/x-python",
   "name": "python",
   "nbconvert_exporter": "python",
   "pygments_lexer": "ipython3",
   "version": "3.7.7"
  }
 },
 "nbformat": 4,
 "nbformat_minor": 2
}
